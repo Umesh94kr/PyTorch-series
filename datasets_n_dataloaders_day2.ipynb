{
 "cells": [
  {
   "cell_type": "markdown",
   "metadata": {},
   "source": [
    "## Dataset and DataLoaders\n",
    "-> Dataset stores samples and corresponding labels\n",
    "\n",
    "-> DataLoaders wraps an iterable over the dataset allowing easy access to the data\n"
   ]
  },
  {
   "cell_type": "code",
   "execution_count": 1,
   "metadata": {},
   "outputs": [],
   "source": [
    "import torch\n",
    "from torch.utils.data import Dataset\n",
    "from torch.utils.data import DataLoader"
   ]
  },
  {
   "cell_type": "markdown",
   "metadata": {},
   "source": [
    "## Loading a Dataset"
   ]
  },
  {
   "cell_type": "code",
   "execution_count": 2,
   "metadata": {},
   "outputs": [],
   "source": [
    "## we'll load FashionMNIST dataset using torchvision\n",
    "from torchvision import datasets\n",
    "from torchvision.transforms import ToTensor\n",
    "import matplotlib.pyplot as plt"
   ]
  },
  {
   "cell_type": "code",
   "execution_count": 3,
   "metadata": {},
   "outputs": [
    {
     "name": "stdout",
     "output_type": "stream",
     "text": [
      "Downloading http://fashion-mnist.s3-website.eu-central-1.amazonaws.com/train-images-idx3-ubyte.gz\n",
      "Downloading http://fashion-mnist.s3-website.eu-central-1.amazonaws.com/train-images-idx3-ubyte.gz to data/FashionMNIST/raw/train-images-idx3-ubyte.gz\n"
     ]
    },
    {
     "name": "stderr",
     "output_type": "stream",
     "text": [
      "100%|██████████| 26421880/26421880 [00:05<00:00, 5260043.85it/s]\n"
     ]
    },
    {
     "name": "stdout",
     "output_type": "stream",
     "text": [
      "Extracting data/FashionMNIST/raw/train-images-idx3-ubyte.gz to data/FashionMNIST/raw\n",
      "\n",
      "Downloading http://fashion-mnist.s3-website.eu-central-1.amazonaws.com/train-labels-idx1-ubyte.gz\n",
      "Downloading http://fashion-mnist.s3-website.eu-central-1.amazonaws.com/train-labels-idx1-ubyte.gz to data/FashionMNIST/raw/train-labels-idx1-ubyte.gz\n"
     ]
    },
    {
     "name": "stderr",
     "output_type": "stream",
     "text": [
      "100%|██████████| 29515/29515 [00:00<00:00, 175525.62it/s]\n"
     ]
    },
    {
     "name": "stdout",
     "output_type": "stream",
     "text": [
      "Extracting data/FashionMNIST/raw/train-labels-idx1-ubyte.gz to data/FashionMNIST/raw\n",
      "\n",
      "Downloading http://fashion-mnist.s3-website.eu-central-1.amazonaws.com/t10k-images-idx3-ubyte.gz\n",
      "Downloading http://fashion-mnist.s3-website.eu-central-1.amazonaws.com/t10k-images-idx3-ubyte.gz to data/FashionMNIST/raw/t10k-images-idx3-ubyte.gz\n"
     ]
    },
    {
     "name": "stderr",
     "output_type": "stream",
     "text": [
      "100%|██████████| 4422102/4422102 [00:01<00:00, 2804236.81it/s]\n"
     ]
    },
    {
     "name": "stdout",
     "output_type": "stream",
     "text": [
      "Extracting data/FashionMNIST/raw/t10k-images-idx3-ubyte.gz to data/FashionMNIST/raw\n",
      "\n",
      "Downloading http://fashion-mnist.s3-website.eu-central-1.amazonaws.com/t10k-labels-idx1-ubyte.gz\n",
      "Downloading http://fashion-mnist.s3-website.eu-central-1.amazonaws.com/t10k-labels-idx1-ubyte.gz to data/FashionMNIST/raw/t10k-labels-idx1-ubyte.gz\n"
     ]
    },
    {
     "name": "stderr",
     "output_type": "stream",
     "text": [
      "100%|██████████| 5148/5148 [00:00<00:00, 15281158.52it/s]"
     ]
    },
    {
     "name": "stdout",
     "output_type": "stream",
     "text": [
      "Extracting data/FashionMNIST/raw/t10k-labels-idx1-ubyte.gz to data/FashionMNIST/raw\n",
      "\n"
     ]
    },
    {
     "name": "stderr",
     "output_type": "stream",
     "text": [
      "\n"
     ]
    }
   ],
   "source": [
    "## training data\n",
    "train_data = datasets.FashionMNIST(\n",
    "    root='data',\n",
    "    download=True,\n",
    "    train=True,\n",
    "    transform=ToTensor()\n",
    ")\n",
    "\n",
    "## testing data\n",
    "test_data = datasets.FashionMNIST(\n",
    "    root='data',\n",
    "    download=True,\n",
    "    train=False,\n",
    "    transform=ToTensor()\n",
    ")"
   ]
  },
  {
   "cell_type": "code",
   "execution_count": 4,
   "metadata": {},
   "outputs": [
    {
     "name": "stdout",
     "output_type": "stream",
     "text": [
      "<class 'torchvision.datasets.mnist.FashionMNIST'>\n"
     ]
    }
   ],
   "source": [
    "print(type(train_data))"
   ]
  },
  {
   "cell_type": "code",
   "execution_count": 5,
   "metadata": {},
   "outputs": [
    {
     "data": {
      "text/plain": [
       "Dataset FashionMNIST\n",
       "    Number of datapoints: 60000\n",
       "    Root location: data\n",
       "    Split: Train\n",
       "    StandardTransform\n",
       "Transform: ToTensor()"
      ]
     },
     "execution_count": 5,
     "metadata": {},
     "output_type": "execute_result"
    }
   ],
   "source": [
    "train_data"
   ]
  },
  {
   "cell_type": "markdown",
   "metadata": {},
   "source": [
    "The train data have 60,000 examples, here is a method to access data and labels by their indices"
   ]
  },
  {
   "cell_type": "code",
   "execution_count": 18,
   "metadata": {},
   "outputs": [
    {
     "name": "stdout",
     "output_type": "stream",
     "text": [
      "Shape of Image : torch.Size([1, 28, 28])\n",
      "Label : 9\n",
      "Image : tensor([[[0.0000, 0.0000, 0.0000, 0.0000, 0.0000, 0.0000, 0.0000, 0.0000,\n",
      "          0.0000, 0.0000, 0.0000, 0.0000, 0.0000, 0.0000, 0.0000, 0.0000,\n",
      "          0.0000, 0.0000, 0.0000, 0.0000, 0.0000, 0.0000, 0.0000, 0.0000,\n",
      "          0.0000, 0.0000, 0.0000, 0.0000],\n",
      "         [0.0000, 0.0000, 0.0000, 0.0000, 0.0000, 0.0000, 0.0000, 0.0000,\n",
      "          0.0000, 0.0000, 0.0000, 0.0000, 0.0000, 0.0000, 0.0000, 0.0000,\n",
      "          0.0000, 0.0000, 0.0000, 0.0000, 0.0000, 0.0000, 0.0000, 0.0000,\n",
      "          0.0000, 0.0000, 0.0000, 0.0000],\n",
      "         [0.0000, 0.0000, 0.0000, 0.0000, 0.0000, 0.0000, 0.0000, 0.0000,\n",
      "          0.0000, 0.0000, 0.0000, 0.0000, 0.0000, 0.0000, 0.0000, 0.0000,\n",
      "          0.0000, 0.0000, 0.0000, 0.0000, 0.0000, 0.0000, 0.0000, 0.0000,\n",
      "          0.0000, 0.0000, 0.0000, 0.0000],\n",
      "         [0.0000, 0.0000, 0.0000, 0.0000, 0.0000, 0.0000, 0.0000, 0.0000,\n",
      "          0.0000, 0.0000, 0.0000, 0.0000, 0.0039, 0.0000, 0.0000, 0.0510,\n",
      "          0.2863, 0.0000, 0.0000, 0.0039, 0.0157, 0.0000, 0.0000, 0.0000,\n",
      "          0.0000, 0.0039, 0.0039, 0.0000],\n",
      "         [0.0000, 0.0000, 0.0000, 0.0000, 0.0000, 0.0000, 0.0000, 0.0000,\n",
      "          0.0000, 0.0000, 0.0000, 0.0000, 0.0118, 0.0000, 0.1412, 0.5333,\n",
      "          0.4980, 0.2431, 0.2118, 0.0000, 0.0000, 0.0000, 0.0039, 0.0118,\n",
      "          0.0157, 0.0000, 0.0000, 0.0118],\n",
      "         [0.0000, 0.0000, 0.0000, 0.0000, 0.0000, 0.0000, 0.0000, 0.0000,\n",
      "          0.0000, 0.0000, 0.0000, 0.0000, 0.0235, 0.0000, 0.4000, 0.8000,\n",
      "          0.6902, 0.5255, 0.5647, 0.4824, 0.0902, 0.0000, 0.0000, 0.0000,\n",
      "          0.0000, 0.0471, 0.0392, 0.0000],\n",
      "         [0.0000, 0.0000, 0.0000, 0.0000, 0.0000, 0.0000, 0.0000, 0.0000,\n",
      "          0.0000, 0.0000, 0.0000, 0.0000, 0.0000, 0.0000, 0.6078, 0.9255,\n",
      "          0.8118, 0.6980, 0.4196, 0.6118, 0.6314, 0.4275, 0.2510, 0.0902,\n",
      "          0.3020, 0.5098, 0.2824, 0.0588],\n",
      "         [0.0000, 0.0000, 0.0000, 0.0000, 0.0000, 0.0000, 0.0000, 0.0000,\n",
      "          0.0000, 0.0000, 0.0000, 0.0039, 0.0000, 0.2706, 0.8118, 0.8745,\n",
      "          0.8549, 0.8471, 0.8471, 0.6392, 0.4980, 0.4745, 0.4784, 0.5725,\n",
      "          0.5529, 0.3451, 0.6745, 0.2588],\n",
      "         [0.0000, 0.0000, 0.0000, 0.0000, 0.0000, 0.0000, 0.0000, 0.0000,\n",
      "          0.0000, 0.0039, 0.0039, 0.0039, 0.0000, 0.7843, 0.9098, 0.9098,\n",
      "          0.9137, 0.8980, 0.8745, 0.8745, 0.8431, 0.8353, 0.6431, 0.4980,\n",
      "          0.4824, 0.7686, 0.8980, 0.0000],\n",
      "         [0.0000, 0.0000, 0.0000, 0.0000, 0.0000, 0.0000, 0.0000, 0.0000,\n",
      "          0.0000, 0.0000, 0.0000, 0.0000, 0.0000, 0.7176, 0.8824, 0.8471,\n",
      "          0.8745, 0.8941, 0.9216, 0.8902, 0.8784, 0.8706, 0.8784, 0.8667,\n",
      "          0.8745, 0.9608, 0.6784, 0.0000],\n",
      "         [0.0000, 0.0000, 0.0000, 0.0000, 0.0000, 0.0000, 0.0000, 0.0000,\n",
      "          0.0000, 0.0000, 0.0000, 0.0000, 0.0000, 0.7569, 0.8941, 0.8549,\n",
      "          0.8353, 0.7765, 0.7059, 0.8314, 0.8235, 0.8275, 0.8353, 0.8745,\n",
      "          0.8627, 0.9529, 0.7922, 0.0000],\n",
      "         [0.0000, 0.0000, 0.0000, 0.0000, 0.0000, 0.0000, 0.0000, 0.0000,\n",
      "          0.0000, 0.0039, 0.0118, 0.0000, 0.0471, 0.8588, 0.8627, 0.8314,\n",
      "          0.8549, 0.7529, 0.6627, 0.8902, 0.8157, 0.8549, 0.8784, 0.8314,\n",
      "          0.8863, 0.7725, 0.8196, 0.2039],\n",
      "         [0.0000, 0.0000, 0.0000, 0.0000, 0.0000, 0.0000, 0.0000, 0.0000,\n",
      "          0.0000, 0.0000, 0.0235, 0.0000, 0.3882, 0.9569, 0.8706, 0.8627,\n",
      "          0.8549, 0.7961, 0.7765, 0.8667, 0.8431, 0.8353, 0.8706, 0.8627,\n",
      "          0.9608, 0.4667, 0.6549, 0.2196],\n",
      "         [0.0000, 0.0000, 0.0000, 0.0000, 0.0000, 0.0000, 0.0000, 0.0000,\n",
      "          0.0000, 0.0157, 0.0000, 0.0000, 0.2157, 0.9255, 0.8941, 0.9020,\n",
      "          0.8941, 0.9412, 0.9098, 0.8353, 0.8549, 0.8745, 0.9176, 0.8510,\n",
      "          0.8510, 0.8196, 0.3608, 0.0000],\n",
      "         [0.0000, 0.0000, 0.0039, 0.0157, 0.0235, 0.0275, 0.0078, 0.0000,\n",
      "          0.0000, 0.0000, 0.0000, 0.0000, 0.9294, 0.8863, 0.8510, 0.8745,\n",
      "          0.8706, 0.8588, 0.8706, 0.8667, 0.8471, 0.8745, 0.8980, 0.8431,\n",
      "          0.8549, 1.0000, 0.3020, 0.0000],\n",
      "         [0.0000, 0.0118, 0.0000, 0.0000, 0.0000, 0.0000, 0.0000, 0.0000,\n",
      "          0.0000, 0.2431, 0.5686, 0.8000, 0.8941, 0.8118, 0.8353, 0.8667,\n",
      "          0.8549, 0.8157, 0.8275, 0.8549, 0.8784, 0.8745, 0.8588, 0.8431,\n",
      "          0.8784, 0.9569, 0.6235, 0.0000],\n",
      "         [0.0000, 0.0000, 0.0000, 0.0000, 0.0706, 0.1725, 0.3216, 0.4196,\n",
      "          0.7412, 0.8941, 0.8627, 0.8706, 0.8510, 0.8863, 0.7843, 0.8039,\n",
      "          0.8275, 0.9020, 0.8784, 0.9176, 0.6902, 0.7373, 0.9804, 0.9725,\n",
      "          0.9137, 0.9333, 0.8431, 0.0000],\n",
      "         [0.0000, 0.2235, 0.7333, 0.8157, 0.8784, 0.8667, 0.8784, 0.8157,\n",
      "          0.8000, 0.8392, 0.8157, 0.8196, 0.7843, 0.6235, 0.9608, 0.7569,\n",
      "          0.8078, 0.8745, 1.0000, 1.0000, 0.8667, 0.9176, 0.8667, 0.8275,\n",
      "          0.8627, 0.9098, 0.9647, 0.0000],\n",
      "         [0.0118, 0.7922, 0.8941, 0.8784, 0.8667, 0.8275, 0.8275, 0.8392,\n",
      "          0.8039, 0.8039, 0.8039, 0.8627, 0.9412, 0.3137, 0.5882, 1.0000,\n",
      "          0.8980, 0.8667, 0.7373, 0.6039, 0.7490, 0.8235, 0.8000, 0.8196,\n",
      "          0.8706, 0.8941, 0.8824, 0.0000],\n",
      "         [0.3843, 0.9137, 0.7765, 0.8235, 0.8706, 0.8980, 0.8980, 0.9176,\n",
      "          0.9765, 0.8627, 0.7608, 0.8431, 0.8510, 0.9451, 0.2549, 0.2863,\n",
      "          0.4157, 0.4588, 0.6588, 0.8588, 0.8667, 0.8431, 0.8510, 0.8745,\n",
      "          0.8745, 0.8784, 0.8980, 0.1137],\n",
      "         [0.2941, 0.8000, 0.8314, 0.8000, 0.7569, 0.8039, 0.8275, 0.8824,\n",
      "          0.8471, 0.7255, 0.7725, 0.8078, 0.7765, 0.8353, 0.9412, 0.7647,\n",
      "          0.8902, 0.9608, 0.9373, 0.8745, 0.8549, 0.8314, 0.8196, 0.8706,\n",
      "          0.8627, 0.8667, 0.9020, 0.2627],\n",
      "         [0.1882, 0.7961, 0.7176, 0.7608, 0.8353, 0.7725, 0.7255, 0.7451,\n",
      "          0.7608, 0.7529, 0.7922, 0.8392, 0.8588, 0.8667, 0.8627, 0.9255,\n",
      "          0.8824, 0.8471, 0.7804, 0.8078, 0.7294, 0.7098, 0.6941, 0.6745,\n",
      "          0.7098, 0.8039, 0.8078, 0.4510],\n",
      "         [0.0000, 0.4784, 0.8588, 0.7569, 0.7020, 0.6706, 0.7176, 0.7686,\n",
      "          0.8000, 0.8235, 0.8353, 0.8118, 0.8275, 0.8235, 0.7843, 0.7686,\n",
      "          0.7608, 0.7490, 0.7647, 0.7490, 0.7765, 0.7529, 0.6902, 0.6118,\n",
      "          0.6549, 0.6941, 0.8235, 0.3608],\n",
      "         [0.0000, 0.0000, 0.2902, 0.7412, 0.8314, 0.7490, 0.6863, 0.6745,\n",
      "          0.6863, 0.7098, 0.7255, 0.7373, 0.7412, 0.7373, 0.7569, 0.7765,\n",
      "          0.8000, 0.8196, 0.8235, 0.8235, 0.8275, 0.7373, 0.7373, 0.7608,\n",
      "          0.7529, 0.8471, 0.6667, 0.0000],\n",
      "         [0.0078, 0.0000, 0.0000, 0.0000, 0.2588, 0.7843, 0.8706, 0.9294,\n",
      "          0.9373, 0.9490, 0.9647, 0.9529, 0.9569, 0.8667, 0.8627, 0.7569,\n",
      "          0.7490, 0.7020, 0.7137, 0.7137, 0.7098, 0.6902, 0.6510, 0.6588,\n",
      "          0.3882, 0.2275, 0.0000, 0.0000],\n",
      "         [0.0000, 0.0000, 0.0000, 0.0000, 0.0000, 0.0000, 0.0000, 0.1569,\n",
      "          0.2392, 0.1725, 0.2824, 0.1608, 0.1373, 0.0000, 0.0000, 0.0000,\n",
      "          0.0000, 0.0000, 0.0000, 0.0000, 0.0000, 0.0000, 0.0000, 0.0000,\n",
      "          0.0000, 0.0000, 0.0000, 0.0000],\n",
      "         [0.0000, 0.0000, 0.0000, 0.0000, 0.0000, 0.0000, 0.0000, 0.0000,\n",
      "          0.0000, 0.0000, 0.0000, 0.0000, 0.0000, 0.0000, 0.0000, 0.0000,\n",
      "          0.0000, 0.0000, 0.0000, 0.0000, 0.0000, 0.0000, 0.0000, 0.0000,\n",
      "          0.0000, 0.0000, 0.0000, 0.0000],\n",
      "         [0.0000, 0.0000, 0.0000, 0.0000, 0.0000, 0.0000, 0.0000, 0.0000,\n",
      "          0.0000, 0.0000, 0.0000, 0.0000, 0.0000, 0.0000, 0.0000, 0.0000,\n",
      "          0.0000, 0.0000, 0.0000, 0.0000, 0.0000, 0.0000, 0.0000, 0.0000,\n",
      "          0.0000, 0.0000, 0.0000, 0.0000]]])\n"
     ]
    }
   ],
   "source": [
    "img = train_data[0][0]\n",
    "label = train_data[0][1]\n",
    "\n",
    "print(f\"Shape of Image : {img.shape}\")\n",
    "print(f\"Label : {label}\")\n",
    "print(f\"Image : {img}\")"
   ]
  },
  {
   "cell_type": "markdown",
   "metadata": {},
   "source": [
    "### Lets plot around 10 images "
   ]
  },
  {
   "cell_type": "code",
   "execution_count": 29,
   "metadata": {},
   "outputs": [
    {
     "data": {
      "image/png": "[encoded data removed]",
      "text/plain": [
       "<Figure size 1000x1000 with 10 Axes>"
      ]
     },
     "metadata": {},
     "output_type": "display_data"
    }
   ],
   "source": [
    "figure = plt.figure(figsize=(10, 10))\n",
    "rows = 5\n",
    "cols = 5\n",
    "for i in range(0, rows+cols):\n",
    "    ## selecting random index\n",
    "    idx = torch.randint(len(train_data), size=(1,)).item()\n",
    "    img, label = train_data[idx]\n",
    "    figure.add_subplot(rows, cols, i+1)\n",
    "    plt.title(label)\n",
    "    plt.axis(\"off\")\n",
    "    ## making image 28x28\n",
    "    plt.imshow(img.squeeze(), cmap='gray')\n",
    "plt.show()"
   ]
  },
  {
   "cell_type": "markdown",
   "metadata": {},
   "source": [
    "## Making a classification dataset using scikit learn"
   ]
  },
  {
   "cell_type": "code",
   "execution_count": 30,
   "metadata": {},
   "outputs": [
    {
     "name": "stdout",
     "output_type": "stream",
     "text": [
      "Shape of dataset with features only : (100, 20)\n"
     ]
    }
   ],
   "source": [
    "from sklearn.datasets import make_classification\n",
    "\n",
    "X, y = make_classification(n_samples=100, n_features=20)\n",
    "print(f\"Shape of dataset with features only : {X.shape}\")"
   ]
  },
  {
   "cell_type": "code",
   "execution_count": 31,
   "metadata": {},
   "outputs": [
    {
     "name": "stdout",
     "output_type": "stream",
     "text": [
      "Datatype of X : <class 'numpy.ndarray'>\n",
      "Datatype of y : <class 'numpy.ndarray'>\n"
     ]
    }
   ],
   "source": [
    "print(f\"Datatype of X : {type(X)}\")\n",
    "print(f\"Datatype of y : {type(y)}\")"
   ]
  },
  {
   "cell_type": "markdown",
   "metadata": {},
   "source": [
    "## Making a custom dataset"
   ]
  },
  {
   "cell_type": "code",
   "execution_count": 32,
   "metadata": {},
   "outputs": [],
   "source": [
    "class CustomDataset(Dataset):\n",
    "    def __init__(self, X, y):\n",
    "        self.features = X\n",
    "        self.labels = y\n",
    "\n",
    "    def __len__(self):\n",
    "        return (self.features.shape[0])\n",
    "    \n",
    "    def __getitem__(self, idx):\n",
    "        feat = self.features[idx]\n",
    "        lbl = self.labels[idx]\n",
    "        return feat, lbl"
   ]
  },
  {
   "cell_type": "code",
   "execution_count": 33,
   "metadata": {},
   "outputs": [],
   "source": [
    "data = CustomDataset(X, y)"
   ]
  },
  {
   "cell_type": "code",
   "execution_count": 34,
   "metadata": {},
   "outputs": [
    {
     "data": {
      "text/plain": [
       "__main__.CustomDataset"
      ]
     },
     "execution_count": 34,
     "metadata": {},
     "output_type": "execute_result"
    }
   ],
   "source": [
    "## data type of data\n",
    "type(data)"
   ]
  },
  {
   "cell_type": "code",
   "execution_count": 35,
   "metadata": {},
   "outputs": [
    {
     "name": "stdout",
     "output_type": "stream",
     "text": [
      "100\n"
     ]
    }
   ],
   "source": [
    "print(len(data))"
   ]
  },
  {
   "cell_type": "code",
   "execution_count": 37,
   "metadata": {},
   "outputs": [
    {
     "name": "stdout",
     "output_type": "stream",
     "text": [
      "Feature : [-0.89089702  0.30237198  0.53958882 -0.87920763  0.60503437 -1.04879124\n",
      " -0.16519901  0.40850366  0.09935443  0.00480492  1.17803424  0.84464389\n",
      "  0.08634274  0.21025192 -0.80275541  0.63268351  1.29898877 -0.20799168\n",
      " -0.64257834 -0.59649758]\n",
      "Label : 1\n"
     ]
    }
   ],
   "source": [
    "## taking out an example\n",
    "print(f\"Feature : {data[0][0]}\")\n",
    "print(f\"Label : {data[0][1]}\")"
   ]
  },
  {
   "cell_type": "markdown",
   "metadata": {},
   "source": [
    "## Dataloader to wrap an iterable over the dataset"
   ]
  },
  {
   "cell_type": "code",
   "execution_count": 40,
   "metadata": {},
   "outputs": [
    {
     "name": "stdout",
     "output_type": "stream",
     "text": [
      "<torch.utils.data.dataloader.DataLoader object at 0x301c39a50>\n"
     ]
    }
   ],
   "source": [
    "dataloader = DataLoader(data, batch_size=25, shuffle=True)\n",
    "print(dataloader)"
   ]
  },
  {
   "cell_type": "code",
   "execution_count": 45,
   "metadata": {},
   "outputs": [
    {
     "name": "stdout",
     "output_type": "stream",
     "text": [
      "Size of a batch : 25\n",
      "Features : tensor([[-0.9093, -1.1951, -1.0844, -0.3028, -0.4331, -0.5316,  1.8983,  0.4026,\n",
      "          0.3639,  0.3830,  0.5501, -0.7147, -0.0896, -1.0140,  0.8631,  1.0730,\n",
      "          1.1615,  0.2433, -0.9021,  0.0989],\n",
      "        [ 1.1174,  0.8630,  0.5883,  1.9559, -1.7856,  0.7825, -1.4036, -2.0751,\n",
      "          1.2110,  0.5768,  1.1897,  1.2828, -0.1798,  0.1262,  1.2283,  0.8847,\n",
      "         -0.0620,  0.0443,  0.0828, -0.1994],\n",
      "        [-0.5575, -0.2086,  0.6315, -0.1873, -3.3673,  2.0737,  1.3140, -1.4210,\n",
      "          0.7609, -0.3548,  1.2805,  0.0755, -2.2831,  1.2769,  0.8110,  0.9567,\n",
      "         -1.0922,  2.7119, -0.3617,  0.5202],\n",
      "        [ 2.4965, -0.4011, -0.0490,  0.1188,  0.3157, -0.1056, -1.0501, -0.5750,\n",
      "         -0.8737, -0.1451, -0.3742, -0.3803,  0.6099,  1.0400,  0.1058, -0.1953,\n",
      "         -0.0424,  0.7512, -1.1685,  1.3639],\n",
      "        [-1.2269, -0.2343,  0.9315, -1.5801, -0.8611, -0.2546,  0.7336,  0.9388,\n",
      "         -1.6701, -0.7215,  2.2827, -0.9247,  0.0315,  1.8906,  0.0135,  1.1786,\n",
      "          1.0007, -0.3857,  0.5183,  1.2448],\n",
      "        [ 0.6686,  0.2369,  0.5171,  0.1714, -1.0987, -0.1404, -1.6870,  0.4521,\n",
      "          2.3741,  1.5366, -0.1205, -0.2122,  0.8892,  0.0764,  0.0465,  1.2844,\n",
      "          0.9761,  1.0698,  1.0351, -1.1638],\n",
      "        [ 0.0450,  0.3225,  0.2316,  1.0458, -0.6940, -0.3874,  1.9299, -1.1142,\n",
      "          1.3439, -0.4512,  1.0028, -0.5939,  1.7060, -0.1740, -1.0786,  1.1667,\n",
      "          1.1037,  1.6083,  0.1201,  0.1101],\n",
      "        [ 0.1803,  0.9842,  0.4285,  0.4843, -2.6166,  1.9354,  1.6960, -0.2356,\n",
      "          0.1751,  1.7122,  1.3714,  0.0904, -0.4800,  0.3763,  0.2978,  0.3579,\n",
      "         -1.3771,  0.6316, -0.3081,  0.3855],\n",
      "        [-0.2028, -1.0790, -0.7130,  0.7031, -1.2700,  0.3902, -0.3412, -2.0955,\n",
      "         -0.6121,  0.8081, -1.2826,  1.0545,  1.7407, -2.1947, -1.8475,  0.8271,\n",
      "          0.2271,  0.1678,  0.3613,  0.1023],\n",
      "        [-1.1136, -1.2150,  0.9993, -1.0276,  1.3911, -0.9714, -0.7309,  0.4056,\n",
      "         -0.6659,  0.1212,  0.4193, -1.4254,  0.9423,  0.2169,  1.0393, -0.2588,\n",
      "          0.6382,  0.0884,  0.6193, -1.1661],\n",
      "        [-0.3738,  0.5930, -0.8112,  0.0553, -1.0007,  1.9601, -0.0661,  0.1200,\n",
      "          0.5979,  1.3019,  0.9522, -1.4459, -0.9173,  1.4882,  0.6570, -1.3146,\n",
      "         -2.5161,  1.6483,  0.7065, -0.8191],\n",
      "        [-0.0193, -1.1928,  1.7653, -0.2898, -0.2967, -0.8294,  0.9601,  1.6067,\n",
      "         -1.2126,  1.0740,  0.5541,  0.5746,  0.2117, -0.3187,  0.9727,  1.2886,\n",
      "          1.5543,  0.1578,  0.9293, -0.7835],\n",
      "        [ 0.8221, -1.1778,  0.6788, -0.8105, -0.3432, -0.5846, -1.8027,  0.9887,\n",
      "          1.5814,  0.1300,  1.1454,  0.2343,  1.0248, -0.6927,  0.1931,  1.0445,\n",
      "          1.1867, -0.8187,  1.4431, -1.7976],\n",
      "        [ 0.0153, -1.6868, -0.5802,  1.1333,  1.5767, -0.7387, -0.6136,  0.5992,\n",
      "         -0.1038,  0.7981,  0.6274,  0.2570,  0.6359,  1.1355,  0.1770, -0.7243,\n",
      "          0.1327,  0.1508, -0.2927, -0.1161],\n",
      "        [-1.3909,  0.7690,  0.1249, -0.5806, -1.5990,  0.1637,  0.2511, -0.3239,\n",
      "         -0.9500, -1.5805,  0.2461, -1.0217, -0.9237, -2.0145, -1.6174,  1.4312,\n",
      "          0.8203, -0.0878, -0.5141,  0.8924],\n",
      "        [-0.7663,  0.2746, -0.1862, -0.3101, -1.5337,  0.0929, -0.5084, -1.3632,\n",
      "          0.4966,  0.7505, -1.3933, -0.7531,  0.2736,  0.4805,  0.0774,  1.4491,\n",
      "          0.8913,  0.7334,  1.3099,  0.9940],\n",
      "        [-0.1610, -0.6084, -1.1194, -1.0552,  1.1187,  0.5445,  1.1044,  1.7014,\n",
      "         -1.5157,  0.1167, -0.8169, -1.4864,  0.9217,  0.3817, -0.5798, -1.7855,\n",
      "         -1.6487,  0.6665, -0.2748,  1.5359],\n",
      "        [ 0.7420,  0.3248,  1.3125,  1.3489,  0.2235,  0.6742, -0.2233, -0.9985,\n",
      "         -0.6755, -1.1744,  0.6863,  0.3065, -0.1234, -0.8440, -1.2249, -1.0294,\n",
      "         -1.2514, -0.6604,  0.1630, -1.8088],\n",
      "        [-0.4814,  2.3770,  1.6083,  1.0321, -0.1145,  0.9621,  0.7193, -0.6570,\n",
      "         -0.5956,  0.5419,  0.6465,  1.6045, -0.9405,  0.1117,  0.0644, -1.0284,\n",
      "         -1.4912,  1.0266, -0.1419, -1.2422],\n",
      "        [-1.2989,  0.0782,  0.2557, -0.2793,  0.2501,  0.1572, -0.6312,  0.1539,\n",
      "         -1.8647, -0.1954,  0.1597,  0.4628, -0.4356, -1.2039, -0.9742, -0.4413,\n",
      "         -0.4263, -0.7765,  0.1974,  0.6027],\n",
      "        [-0.0750, -0.1351, -1.8741,  0.1084, -0.2430, -0.5476,  1.3569,  2.6079,\n",
      "         -0.6188,  0.4656,  0.0047,  0.1341, -0.4460, -1.3050, -0.4278,  0.8986,\n",
      "          1.0582, -0.1114,  0.0860,  1.2217],\n",
      "        [ 1.0534, -0.5982, -0.5961, -0.5228,  2.0317, -0.2652,  1.1353,  1.2523,\n",
      "          1.1767, -0.0505, -0.1783,  0.2094,  1.1375, -1.0724, -1.0625, -1.7504,\n",
      "         -0.9489,  1.6783,  1.6624,  0.6846],\n",
      "        [-1.7487,  1.2049, -0.3048,  0.4225, -1.2435, -0.0709,  1.6958, -0.8444,\n",
      "          0.6026, -0.4133,  0.6556, -0.2183,  0.3150, -1.1033, -0.1077,  1.3489,\n",
      "          0.9611, -0.0668,  1.1121,  0.3349],\n",
      "        [ 2.1381,  0.2974, -0.2929, -0.1708,  0.7518,  0.6655,  0.6859, -1.2615,\n",
      "          0.6931, -0.9730, -0.0731,  0.6619,  0.0572, -0.6420, -0.0392, -1.5564,\n",
      "         -1.5965, -0.1726, -0.8433,  0.2862],\n",
      "        [ 1.0395,  0.8287,  1.1605,  0.5686, -1.1815, -0.0657,  1.0584,  1.3864,\n",
      "         -1.3237, -1.1006,  0.7534, -0.3078,  1.0184, -0.7017, -0.3076,  1.2797,\n",
      "          0.9106, -1.0548, -0.1975,  0.1906]], dtype=torch.float64)\n",
      "Labels : tensor([0, 0, 0, 0, 0, 0, 0, 0, 0, 1, 0, 1, 0, 1, 0, 0, 0, 1, 1, 1, 1, 1, 0, 1,\n",
      "        0])\n"
     ]
    }
   ],
   "source": [
    "features, labels = next(iter(dataloader))\n",
    "print(f\"Size of a batch : {features.shape[0]}\")\n",
    "print(f\"Features : {features}\")\n",
    "print(f\"Labels : {labels}\")"
   ]
  },
  {
   "cell_type": "code",
   "execution_count": null,
   "metadata": {},
   "outputs": [],
   "source": []
  }
 ],
 "metadata": {
  "kernelspec": {
   "display_name": "base",
   "language": "python",
   "name": "python3"
  },
  "language_info": {
   "codemirror_mode": {
    "name": "ipython",
    "version": 3
   },
   "file_extension": ".py",
   "mimetype": "text/x-python",
   "name": "python",
   "nbconvert_exporter": "python",
   "pygments_lexer": "ipython3",
   "version": "3.10.9"
  }
 },
 "nbformat": 4,
 "nbformat_minor": 2
}
