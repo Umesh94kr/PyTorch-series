{
 "cells": [
  {
   "cell_type": "markdown",
   "metadata": {},
   "source": [
    "## Tensors\n",
    "\n",
    "Tensors are data structures just like arrays with some benefits like they can be run on GPU"
   ]
  },
  {
   "cell_type": "code",
   "execution_count": 1,
   "metadata": {},
   "outputs": [],
   "source": [
    "import torch\n",
    "import numpy as np"
   ]
  },
  {
   "cell_type": "code",
   "execution_count": 2,
   "metadata": {},
   "outputs": [
    {
     "name": "stdout",
     "output_type": "stream",
     "text": [
      "Shape of this tensor : torch.Size([2, 2])\n",
      "Dimensions of this tensor : 2\n"
     ]
    }
   ],
   "source": [
    "## creating tensor when data is given\n",
    "data = [[1, 2], [3, 4]]\n",
    "t1 = torch.tensor(data)\n",
    "print(f\"Shape of this tensor : {t1.shape}\")\n",
    "print(f\"Dimensions of this tensor : {t1.ndim}\")"
   ]
  },
  {
   "cell_type": "code",
   "execution_count": 5,
   "metadata": {},
   "outputs": [
    {
     "name": "stdout",
     "output_type": "stream",
     "text": [
      "Shape of array : (4,)\n",
      "Shape of tensor is : torch.Size([4])\n"
     ]
    }
   ],
   "source": [
    "## creating tensor from a numpy array\n",
    "ar1 = np.array([1, 2, 3, 4])\n",
    "print(f\"Shape of array : {ar1.shape}\")\n",
    "\n",
    "t2 = torch.from_numpy(ar1)\n",
    "print(f\"Shape of tensor is : {t2.shape}\")"
   ]
  },
  {
   "cell_type": "code",
   "execution_count": 7,
   "metadata": {},
   "outputs": [
    {
     "name": "stdout",
     "output_type": "stream",
     "text": [
      "<class 'numpy.ndarray'>\n",
      "[1 2 3 4]\n"
     ]
    }
   ],
   "source": [
    "## converting tensor to numpy array\n",
    "ar2 = t2.numpy()\n",
    "print(type(ar2))\n",
    "print(ar2)"
   ]
  },
  {
   "cell_type": "code",
   "execution_count": 9,
   "metadata": {},
   "outputs": [
    {
     "name": "stdout",
     "output_type": "stream",
     "text": [
      "Zero tensor : tensor([[0, 0],\n",
      "        [0, 0]])\n",
      "Ones tensor : tensor([[1, 1],\n",
      "        [1, 1]])\n",
      "Rand tensor : tensor([[0.5915, 0.6066],\n",
      "        [0.6605, 0.6912]])\n"
     ]
    }
   ],
   "source": [
    "## retaining property of other tensor in this case we'll use t1\n",
    "t_zeros = torch.zeros_like(t1)\n",
    "t_ones = torch.ones_like(t1)\n",
    "t_rand = torch.rand_like(t1, dtype=torch.float32)\n",
    "\n",
    "print(f\"Zero tensor : {t_zeros}\")\n",
    "print(f\"Ones tensor : {t_ones}\")\n",
    "print(f\"Rand tensor : {t_rand}\")"
   ]
  },
  {
   "cell_type": "code",
   "execution_count": 13,
   "metadata": {},
   "outputs": [
    {
     "name": "stdout",
     "output_type": "stream",
     "text": [
      "t4 : tensor([[0.1519, 0.5293, 0.7064]]), Shape : torch.Size([1, 3])\n",
      "t5 : tensor([[1., 1., 1.]]), Shape : torch.Size([1, 3])\n",
      "t6 : tensor([[0., 0., 0.]]), Shape : torch.Size([1, 3])\n"
     ]
    }
   ],
   "source": [
    "## making a new tensor by defining shape and data type\n",
    "shape = (1, 3)\n",
    "d_type = torch.float32\n",
    "\n",
    "t4 = torch.rand(shape, dtype=torch.float32)\n",
    "t5 = torch.ones(shape, dtype=d_type)\n",
    "t6 = torch.zeros(shape, dtype=d_type)\n",
    "\n",
    "print(f\"t4 : {t4}, Shape : {t4.shape}\")\n",
    "print(f\"t5 : {t5}, Shape : {t5.shape}\")\n",
    "print(f\"t6 : {t6}, Shape : {t6.shape}\")"
   ]
  },
  {
   "cell_type": "code",
   "execution_count": 18,
   "metadata": {},
   "outputs": [
    {
     "name": "stdout",
     "output_type": "stream",
     "text": [
      "Device on which tensor are running : cpu\n"
     ]
    }
   ],
   "source": [
    "## Device on which tensor are formed\n",
    "print(f\"Device on which tensor are running : {t5.device}\")"
   ]
  },
  {
   "cell_type": "code",
   "execution_count": 19,
   "metadata": {},
   "outputs": [
    {
     "name": "stdout",
     "output_type": "stream",
     "text": [
      "Device in use is : cpu\n"
     ]
    }
   ],
   "source": [
    "## setting up the device\n",
    "if torch.cuda.is_available():\n",
    "    device = \"cuda\"\n",
    "else:\n",
    "    device = \"cpu\"\n",
    "\n",
    "print(f\"Device in use is : {device}\")"
   ]
  },
  {
   "cell_type": "code",
   "execution_count": 21,
   "metadata": {},
   "outputs": [
    {
     "data": {
      "text/plain": [
       "tensor([[1., 1., 1.]])"
      ]
     },
     "execution_count": 21,
     "metadata": {},
     "output_type": "execute_result"
    }
   ],
   "source": [
    "## shifting the tensor to a gpu or etc...\n",
    "t5.to(device)"
   ]
  },
  {
   "cell_type": "code",
   "execution_count": null,
   "metadata": {},
   "outputs": [
    {
     "name": "stdout",
     "output_type": "stream",
     "text": [
      "t1 : tensor([[0., 0.],\n",
      "        [0., 0.]])\n",
      "t2 : tensor([[1., 1.],\n",
      "        [1., 1.]])\n",
      "t3 : tensor([[2., 2.],\n",
      "        [2., 2.]])\n",
      "Dim1 : tensor([[0., 0., 1., 1., 2., 2.],\n",
      "        [0., 0., 1., 1., 2., 2.]])\n",
      "Dim0 : tensor([[0., 0.],\n",
      "        [0., 0.],\n",
      "        [1., 1.],\n",
      "        [1., 1.],\n",
      "        [2., 2.],\n",
      "        [2., 2.]])\n"
     ]
    }
   ],
   "source": [
    "## concating two or more tensors\n",
    "shape = (2, 2)\n",
    "t1 = torch.zeros(shape)\n",
    "t2 = torch.ones(shape)\n",
    "t3 = torch.ones(shape)*2\n",
    "\n",
    "print(f\"t1 : {t1}\")\n",
    "print(f\"t2 : {t2}\")\n",
    "print(f\"t3 : {t3}\")\n",
    "\n",
    "concat_tensor_dim1 = torch.concat([t1, t2, t3], dim=1) ## dim = 1 means concating horizontally\n",
    "concat_tensor_dim0 = torch.concat([t1, t2, t3], dim=0) ## dim = 0 means concating vertically\n",
    "\n",
    "print(f\"Dim1 : {concat_tensor_dim1}\")\n",
    "print(f\"Dim0 : {concat_tensor_dim0}\")"
   ]
  },
  {
   "cell_type": "markdown",
   "metadata": {},
   "source": [
    "## Arithematic Operations on Tensors"
   ]
  },
  {
   "cell_type": "code",
   "execution_count": 27,
   "metadata": {},
   "outputs": [
    {
     "name": "stdout",
     "output_type": "stream",
     "text": [
      "t1 : tensor([[0.1041, 0.2628],\n",
      "        [0.2158, 0.6725]])\n",
      "t2 : tensor([[0.6694, 0.7609],\n",
      "        [0.2886, 0.3603]])\n"
     ]
    }
   ],
   "source": [
    "## lets make two tensors\n",
    "t1 = torch.rand(size=(2, 2))\n",
    "t2 = torch.rand(size=(2, 2))\n",
    "\n",
    "print(f\"t1 : {t1}\")\n",
    "print(f\"t2 : {t2}\")"
   ]
  },
  {
   "cell_type": "code",
   "execution_count": 28,
   "metadata": {},
   "outputs": [
    {
     "name": "stdout",
     "output_type": "stream",
     "text": [
      "Addition : tensor([[0.7735, 1.0237],\n",
      "        [0.5044, 1.0327]])\n",
      "Subtract : tensor([[-0.5653, -0.4982],\n",
      "        [-0.0728,  0.3122]])\n"
     ]
    }
   ],
   "source": [
    "## Additon and subtraction\n",
    "add = t1 + t2\n",
    "sub = t1 - t2\n",
    "\n",
    "print(f\"Addition : {add}\")\n",
    "print(f\"Subtract : {sub}\")"
   ]
  },
  {
   "cell_type": "code",
   "execution_count": 32,
   "metadata": {},
   "outputs": [
    {
     "name": "stdout",
     "output_type": "stream",
     "text": [
      "Mult1 : tensor([[0.0697, 0.2000],\n",
      "        [0.0623, 0.2423]])\n",
      "Mult2 : tensor([[0.0697, 0.2000],\n",
      "        [0.0623, 0.2423]])\n"
     ]
    }
   ],
   "source": [
    "## multiplication (element-wise)\n",
    "mult = t1 * t2\n",
    "## or we can also do by using 'mul' operation\n",
    "mult2 = t1.mul(t2)\n",
    "\n",
    "print(f\"Mult1 : {mult}\")\n",
    "print(f\"Mult2 : {mult2}\")"
   ]
  },
  {
   "cell_type": "code",
   "execution_count": 33,
   "metadata": {},
   "outputs": [
    {
     "name": "stdout",
     "output_type": "stream",
     "text": [
      "tensor([[0.0697, 0.2000],\n",
      "        [0.0623, 0.2423]])\n"
     ]
    }
   ],
   "source": [
    "## we can also define multiplication by defining output tensor\n",
    "t_out = torch.rand_like(t1)\n",
    "\n",
    "torch.mul(t1, t2, out=t_out)\n",
    "print(t_out)"
   ]
  },
  {
   "cell_type": "markdown",
   "metadata": {},
   "source": [
    "### Matrix Multiplication"
   ]
  },
  {
   "cell_type": "code",
   "execution_count": 37,
   "metadata": {},
   "outputs": [
    {
     "name": "stdout",
     "output_type": "stream",
     "text": [
      "t1 : tensor([[0.0688, 0.9524],\n",
      "        [0.7339, 0.2042]])\n",
      "t2 : tensor([[0.6247, 0.0640],\n",
      "        [0.5284, 0.2387],\n",
      "        [0.8289, 0.7245]])\n"
     ]
    }
   ],
   "source": [
    "t1 = torch.rand(size=(2, 2))\n",
    "t2 = torch.rand(size=(3, 2))\n",
    "\n",
    "print(f\"t1 : {t1}\")\n",
    "print(f\"t2 : {t2}\")"
   ]
  },
  {
   "cell_type": "code",
   "execution_count": 39,
   "metadata": {},
   "outputs": [
    {
     "name": "stdout",
     "output_type": "stream",
     "text": [
      "m1 : tensor([[0.1040, 0.2637, 0.7471],\n",
      "        [0.4716, 0.4365, 0.7563]])\n",
      "m2 : tensor([[0.1040, 0.2637, 0.7471],\n",
      "        [0.4716, 0.4365, 0.7563]])\n"
     ]
    }
   ],
   "source": [
    "## matrix multiplication ways\n",
    "m1 = t1 @ t2.T\n",
    "m2 = t1.matmul(t2.T)\n",
    "print(f\"m1 : {m1}\")\n",
    "print(f\"m2 : {m2}\")"
   ]
  },
  {
   "cell_type": "code",
   "execution_count": 41,
   "metadata": {},
   "outputs": [
    {
     "data": {
      "text/plain": [
       "tensor([[0.1040, 0.2637, 0.7471],\n",
       "        [0.4716, 0.4365, 0.7563]])"
      ]
     },
     "execution_count": 41,
     "metadata": {},
     "output_type": "execute_result"
    }
   ],
   "source": [
    "## we can also do matrix multiplication by defining output tensor\n",
    "t_out = torch.rand(size=(2, 3))\n",
    "torch.matmul(t1, t2.T, out=t_out)"
   ]
  },
  {
   "cell_type": "code",
   "execution_count": null,
   "metadata": {},
   "outputs": [],
   "source": []
  }
 ],
 "metadata": {
  "kernelspec": {
   "display_name": "base",
   "language": "python",
   "name": "python3"
  },
  "language_info": {
   "codemirror_mode": {
    "name": "ipython",
    "version": 3
   },
   "file_extension": ".py",
   "mimetype": "text/x-python",
   "name": "python",
   "nbconvert_exporter": "python",
   "pygments_lexer": "ipython3",
   "version": "3.10.9"
  }
 },
 "nbformat": 4,
 "nbformat_minor": 2
}
